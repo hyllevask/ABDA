{
 "cells": [
  {
   "cell_type": "markdown",
   "metadata": {},
   "source": [
    "# Assignment 3\n",
    "---"
   ]
  },
  {
   "cell_type": "markdown",
   "metadata": {},
   "source": [
    "Full assignment is avilable [here](https://docs.google.com/document/d/19JNioy6QysuSi8A_7G2sryXHnZhVkE-R7fTM4res_F4)."
   ]
  },
  {
   "cell_type": "code",
   "execution_count": 1,
   "metadata": {},
   "outputs": [],
   "source": [
    "import numpy as np\n",
    "import matplotlib.pyplot as plt\n",
    "import scipy.optimize as opt"
   ]
  },
  {
   "cell_type": "markdown",
   "metadata": {},
   "source": [
    "## Task A\n",
    "\n",
    "---"
   ]
  },
  {
   "cell_type": "markdown",
   "metadata": {},
   "source": [
    "**1)** Use Eq. (4.9) graphically in Table 4.1 to calculate the conditional probability . \n",
    "* By graphically I mean circle/highlight with a (digital) pen the probabilities in the table corresponding to the numerator and denominator in (4.9). \n",
    "* Please reason why the ratio of these areas makes sense. You may use the classical definition of probability.\n",
    "\n",
    "___"
   ]
  },
  {
   "cell_type": "markdown",
   "metadata": {},
   "source": [
    "**2)** Solve Exercise 5.1 on page 118 using a function that takes an input argument that represents the person’s sequential test results and returns the posterior probability of having the disease and not having the disease. For example, let T=’+-’ be an input argument string to your function representing a random individual who first tested positive and then negative. Let the function return a two element list or a two element array of the posterior probabilities  \n",
    "\\[**p**( happy | T ),**p**( sad | T )\\].\n",
    "\n",
    "\n",
    "* Use the last paragraph in section 5.1.2 (on page 104-105) and section 5.2.1 (page 107-108) to explaining how the algorithm works sequentially, starting from the prior probabilities (i.e. without any test results) and then moving on sequentially with access to new test results. If the function is given an empty string T = ‘’ it returns the prior probabilities and then sequentially updates the posterior.\n",
    "\n",
    "\n",
    "\n",
    "---"
   ]
  },
  {
   "cell_type": "code",
   "execution_count": 84,
   "metadata": {},
   "outputs": [],
   "source": [
    "def test_results(tests):\n",
    "    P = {}\n",
    "\n",
    "    P[\":(\"] = 0.001\n",
    "    P[\":)\"] = 1.0-P[\":(\"]\n",
    "    P[\"+|:(\"] = 0.99\n",
    "    P[\"+|:)\"] = 0.05\n",
    "    P[\"-|:(\"] = 1.0 - P[\"+|:(\"]\n",
    "    P[\"-|:)\"] = 1.0 - P[\"+|:)\"]\n",
    "    \n",
    "    \n",
    "    P[\"+\"] = P[\"+|:)\"]*P[\":)\"] + P[\"+|:(\"]*P[\":(\"]\n",
    "    P[\"-\"] = P[\"-|:)\"]*P[\":)\"] + P[\"-|:(\"]*P[\":(\"]\n",
    "    \n",
    "    #Compute the posterior for the first test\n",
    "    P[':(|+'] = P['+|:(']*P[':(']/P['+']\n",
    "    P[':)|+'] = P['+|:)']*P[':)']/P['+']\n",
    "    P[':(|-'] = P['-|:(']*P[':(']/P['-']\n",
    "    P[':)|-'] = P['-|:)']*P[':)']/P['-']\n",
    "    \n",
    "    #Compute likelihood for the second test\n",
    "    P['++|:('] = P['+|:(']**2\n",
    "    P['+-|:('] = P['+|:(']*P['-|:(']\n",
    "    P['-+|:('] = P['-|:(']*P['+|:(']\n",
    "    P['--|:('] = P['-|:(']**2\n",
    "    \n",
    "    P['++|:)'] = P['+|:)']**2\n",
    "    P['+-|:)'] = P['+|:)']*P['-|:)']\n",
    "    P['-+|:)'] = P['-|:)']*P['+|:)']\n",
    "    P['--|:)'] = P['-|:)']**2\n",
    "    \n",
    "    #Compute the evidence using the posterior from the first test as the priori\n",
    "    P['++'] = P['++|:(']*P[':(|+'] + P['++|:)']*P[':)|+']\n",
    "    P['--'] = P['--|:(']*P[':(|-'] + P['--|:)']*P[':)|-']\n",
    "    \n",
    "    P['+-'] = P['+-|:(']*P[':(|+'] + P['+-|:)']*P[':)|+']\n",
    "    P['-+'] = P['-+|:(']*P[':(|-'] + P['-+|:)']*P[':)|-']\n",
    "    \n",
    "    #Compute the posterior for the second test\n",
    "    P[':(|++'] = P['++|:(']*P[':(|+']/P['++']\n",
    "    P[':)|++'] = P['++|:)']*P[':)|+']/P['++']\n",
    "    \n",
    "    P[':(|--'] = P['--|:(']*P[':(|-']/P['--']\n",
    "    P[':)|--'] = P['--|:)']*P[':)|-']/P['--']\n",
    "    \n",
    "    \n",
    "    P[':(|+-'] = P['+-|:(']*P[':(|+']/P['+-']\n",
    "    P[':)|+-'] = P['+-|:)']*P[':)|+']/P['+-']\n",
    "    \n",
    "    P[':(|-+'] = P['-+|:(']*P[':(|-']/P['-+']\n",
    "    P[':)|-+'] = P['-+|:)']*P[':)|-']/P['-+']\n",
    "\n",
    "\n",
    "    #Return whats asked for\n",
    "    if tests == '++':\n",
    "        return P[':)|++'],P[':(|++']\n",
    "    elif tests == '--':\n",
    "        return P[':)|--'],P[':(|--']\n",
    "    elif tests == '+-':\n",
    "        return P[':)|+-'],P[':(|+-']\n",
    "    elif tests == '-+':\n",
    "        return P[':)|-+'],P[':(|-+']            \n",
    "    else:\n",
    "        print(\"This is else\")\n",
    "\n"
   ]
  },
  {
   "cell_type": "code",
   "execution_count": 87,
   "metadata": {},
   "outputs": [
    {
     "name": "stdout",
     "output_type": "stream",
     "text": [
      "0.11402297717075098\n",
      "0.885977022829249\n"
     ]
    }
   ],
   "source": [
    "happy,sad = test_results('++')\n",
    "print(happy)\n",
    "print(sad)"
   ]
  },
  {
   "cell_type": "markdown",
   "metadata": {},
   "source": [
    "## Task B\n",
    "\n",
    "---"
   ]
  },
  {
   "cell_type": "markdown",
   "metadata": {},
   "source": [
    "Finally we will try to take the first steps in applying Bayesian models on data.\n",
    "\n",
    "We will start by reproducing the “inferring bias in a coin” example in the book (Ch 5 & 6). As pointed out by the author, this is a toy example but the same model applies to many different situations that you may be faced with (see e.g. the analogies given by the author on page 73 and 124 in the book).\n"
   ]
  },
  {
   "cell_type": "code",
   "execution_count": 88,
   "metadata": {},
   "outputs": [],
   "source": [
    "def Bernulli(y,theta):\n",
    "    return theta**y*(1.0-y)**(1.0-theta)\n",
    "def likelihood(y,theta):\n",
    "    return prod(Bernulli(y,theta))\n"
   ]
  }
 ],
 "metadata": {
  "kernelspec": {
   "display_name": "Python 3",
   "language": "python",
   "name": "python3"
  },
  "language_info": {
   "codemirror_mode": {
    "name": "ipython",
    "version": 3
   },
   "file_extension": ".py",
   "mimetype": "text/x-python",
   "name": "python",
   "nbconvert_exporter": "python",
   "pygments_lexer": "ipython3",
   "version": "3.7.4"
  }
 },
 "nbformat": 4,
 "nbformat_minor": 2
}
