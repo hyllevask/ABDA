{
 "cells": [
  {
   "cell_type": "markdown",
   "metadata": {
    "slideshow": {
     "slide_type": "slide"
    }
   },
   "source": [
    "# Assignment 3\n",
    "---"
   ]
  },
  {
   "cell_type": "markdown",
   "metadata": {},
   "source": [
    "Full assignment is avilable [here](https://docs.google.com/document/d/19JNioy6QysuSi8A_7G2sryXHnZhVkE-R7fTM4res_F4)."
   ]
  },
  {
   "cell_type": "code",
   "execution_count": 3,
   "metadata": {},
   "outputs": [],
   "source": [
    "import numpy as np\n",
    "import matplotlib.pyplot as plt\n",
    "import scipy.optimize as opt\n",
    "import scipy.special as ss"
   ]
  },
  {
   "cell_type": "markdown",
   "metadata": {
    "slideshow": {
     "slide_type": "slide"
    }
   },
   "source": [
    "## Task A\n",
    "\n",
    "---"
   ]
  },
  {
   "cell_type": "markdown",
   "metadata": {
    "slideshow": {
     "slide_type": "-"
    }
   },
   "source": [
    "**1)** Use Eq. (4.9) graphically in Table 4.1 to calculate the conditional probability . \n",
    "* By graphically I mean circle/highlight with a (digital) pen the probabilities in the table corresponding to the numerator and denominator in (4.9). \n",
    "* Please reason why the ratio of these areas makes sense. You may use the classical definition of probability.\n",
    "\n",
    "___"
   ]
  },
  {
   "cell_type": "markdown",
   "metadata": {},
   "source": [
    "**Answer**:  \n",
    "\n",
    "![](Table4_1_marked.png)\n",
    "\n",
    "The denominator is marked in green and the nominator is marked in red.  \n",
    "The reason that this makes sense is that given the condition on \"blonde AND red\" shifts our attention over to the two right columns. Then within this subset it is the row corresponding to \"Blue\" that is of interest. The sum of that row within the subset is then normalized with the total probability of the subset."
   ]
  },
  {
   "cell_type": "markdown",
   "metadata": {
    "slideshow": {
     "slide_type": "slide"
    }
   },
   "source": [
    "---\n",
    "**2)** Solve Exercise 5.1 on page 118 using a function that takes an input argument that represents the person’s sequential test results and returns the posterior probability of having the disease and not having the disease. For example, let T=’+-’ be an input argument string to your function representing a random individual who first tested positive and then negative. Let the function return a two element list or a two element array of the posterior probabilities  \n",
    "\\[ p( happy | T ), p( sad | T )\\].\n",
    "\n",
    "\n",
    "* Use the last paragraph in section 5.1.2 (on page 104-105) and section 5.2.1 (page 107-108) to explaining how the algorithm works sequentially, starting from the prior probabilities (i.e. without any test results) and then moving on sequentially with access to new test results. If the function is given an empty string T = ‘’ it returns the prior probabilities and then sequentially updates the posterior.\n",
    "\n",
    "---\n",
    "\n",
    "**Answer**:  \n",
    "The function below calculates the probibilites as follows:\n",
    "\n",
    "1. The priori likelihood and evidence for the first test is calculated from table XX .\n",
    "2. Calculate the posterior probabilities using Bayes' theorem.\n",
    "3. Set the priori for the second test to the posterior for the first test.\n",
    "4. Calculate the likelihood assuming independence.\n",
    "5. Calculate the new evidence by summing over the likelihood.\n",
    "6. Calculate the posterior probabilities for the second test using Bayes' theorem.\n",
    "\n",
    "\n",
    "---"
   ]
  },
  {
   "cell_type": "code",
   "execution_count": 4,
   "metadata": {},
   "outputs": [],
   "source": [
    "#This is not a good way of dooing this, and most probably wrong!\n",
    "def test_results(tests):\n",
    "    # :) indicates not having the disease\n",
    "    # :( indicates having the disease\n",
    "    # + indicates a positiv test\n",
    "    # - indicates not having thet diseas\n",
    "    \n",
    "    \n",
    "    #Create empty dictionary\n",
    "    P = {}\n",
    "    \n",
    "    #Take likelihood from table in the book\n",
    "    P[\":(\"] = 0.001\n",
    "    P[\":)\"] = 1.0-P[\":(\"]\n",
    "    P[\"+|:(\"] = 0.99\n",
    "    P[\"+|:)\"] = 0.05\n",
    "    P[\"-|:(\"] = 1.0 - P[\"+|:(\"]\n",
    "    P[\"-|:)\"] = 1.0 - P[\"+|:)\"]\n",
    "    \n",
    "    \n",
    "    # Calculate the total evidence for a positive and a negative test.\n",
    "    P[\"+\"] = P[\"+|:)\"]*P[\":)\"] + P[\"+|:(\"]*P[\":(\"]\n",
    "    P[\"-\"] = P[\"-|:)\"]*P[\":)\"] + P[\"-|:(\"]*P[\":(\"]\n",
    "    \n",
    "    #Compute the posterior for the first test\n",
    "    P[':(|+'] = P['+|:(']*P[':(']/P['+']\n",
    "    P[':)|+'] = P['+|:)']*P[':)']/P['+']\n",
    "    P[':(|-'] = P['-|:(']*P[':(']/P['-']\n",
    "    P[':)|-'] = P['-|:)']*P[':)']/P['-']\n",
    "    \n",
    "    #Compute likelihood for the second test\n",
    "    P['++|:('] = P['+|:(']**2\n",
    "    P['+-|:('] = P['+|:(']*P['-|:(']\n",
    "    P['-+|:('] = P['-|:(']*P['+|:(']\n",
    "    P['--|:('] = P['-|:(']**2\n",
    "    \n",
    "    P['++|:)'] = P['+|:)']**2\n",
    "    P['+-|:)'] = P['+|:)']*P['-|:)']\n",
    "    P['-+|:)'] = P['-|:)']*P['+|:)']\n",
    "    P['--|:)'] = P['-|:)']**2\n",
    "    \n",
    "    #Compute the evidence using the posterior from the first test as the priori\n",
    "    P['++'] = P['++|:(']*P[':(|+'] + P['++|:)']*P[':)|+']\n",
    "    P['--'] = P['--|:(']*P[':(|-'] + P['--|:)']*P[':)|-']\n",
    "    \n",
    "    P['+-'] = P['+-|:(']*P[':(|+'] + P['+-|:)']*P[':)|+']\n",
    "    P['-+'] = P['-+|:(']*P[':(|-'] + P['-+|:)']*P[':)|-']\n",
    "    \n",
    "    #Compute the posterior for the second test\n",
    "    P[':(|++'] = P['++|:(']*P[':(|+']/P['++']\n",
    "    P[':)|++'] = P['++|:)']*P[':)|+']/P['++']\n",
    "    \n",
    "    P[':(|--'] = P['--|:(']*P[':(|-']/P['--']\n",
    "    P[':)|--'] = P['--|:)']*P[':)|-']/P['--']\n",
    "    \n",
    "    \n",
    "    P[':(|+-'] = P['+-|:(']*P[':(|+']/P['+-']\n",
    "    P[':)|+-'] = P['+-|:)']*P[':)|+']/P['+-']\n",
    "    \n",
    "    P[':(|-+'] = P['-+|:(']*P[':(|-']/P['-+']\n",
    "    P[':)|-+'] = P['-+|:)']*P[':)|-']/P['-+']\n",
    "\n",
    "\n",
    "    #Return whats asked for\n",
    "    if tests == '++':\n",
    "        return P[':)|++'],P[':(|++']\n",
    "    elif tests == '--':\n",
    "        return P[':)|--'],P[':(|--']\n",
    "    elif tests == '+-':\n",
    "        return P[':)|+-'],P[':(|+-']\n",
    "    elif tests == '-+':\n",
    "        return P[':)|-+'],P[':(|-+']            \n",
    "    else:\n",
    "        return P[':)'], P[':(']\n",
    "\n"
   ]
  },
  {
   "cell_type": "code",
   "execution_count": 13,
   "metadata": {},
   "outputs": [],
   "source": [
    "def single_test(result = '+',prior = 0.001):\n",
    "    # :) indicates not having the disease\n",
    "    # :( indicates having the disease\n",
    "    # + indicates a positiv test\n",
    "    # - indicates not having thet diseas\n",
    "    \n",
    "    \n",
    "    #Create empty dictionary\n",
    "    P = {}\n",
    "    \n",
    "    #Take likelihood from table in the book\n",
    "    P[\":(\"] = prior\n",
    "    P[\":)\"] = 1.0-P[\":(\"]\n",
    "    P[\"+|:(\"] = 0.99\n",
    "    P[\"+|:)\"] = 0.05\n",
    "    P[\"-|:(\"] = 1.0 - P[\"+|:(\"]\n",
    "    P[\"-|:)\"] = 1.0 - P[\"+|:)\"]\n",
    "    \n",
    "    \n",
    "    # Calculate the total evidence for a positive and a negative test.\n",
    "    P[\"+\"] = P[\"+|:)\"]*P[\":)\"] + P[\"+|:(\"]*P[\":(\"]\n",
    "    P[\"-\"] = P[\"-|:)\"]*P[\":)\"] + P[\"-|:(\"]*P[\":(\"]\n",
    "    \n",
    "    #Compute the posterior for the first test\n",
    "    P[':(|+'] = P['+|:(']*P[':(']/P['+']\n",
    "    P[':)|+'] = P['+|:)']*P[':)']/P['+']\n",
    "    P[':(|-'] = P['-|:(']*P[':(']/P['-']\n",
    "    P[':)|-'] = P['-|:)']*P[':)']/P['-']\n",
    "    \n",
    "    if result == '+': return P[':(|+']\n",
    "    elif result == '-': return P[':(|-']\n",
    "    else: return P[':(']\n",
    "def multi_test(test_result = '++',priori = 0.001):\n",
    "    results = []\n",
    "    for index,t in enumerate(test_result):\n",
    "        #print(index)\n",
    "        post = single_test(t,priori)\n",
    "        priori = post\n",
    "        results.append(post)\n",
    "    return results"
   ]
  },
  {
   "cell_type": "markdown",
   "metadata": {},
   "source": [
    "**Evaluate the different cases:**"
   ]
  },
  {
   "cell_type": "code",
   "execution_count": 19,
   "metadata": {},
   "outputs": [
    {
     "name": "stdout",
     "output_type": "stream",
     "text": [
      "[0.019434628975265017, 0.28183229813664595, 0.0041138738412022065, 0.0756071801258963]\n",
      "[1.0536741618022054e-05, 0.0002085861650485439]\n"
     ]
    }
   ],
   "source": [
    "res = multi_test('++-+')\n",
    "print(res)\n",
    "\n",
    "res = multi_test('-+')\n",
    "print(res)"
   ]
  },
  {
   "cell_type": "code",
   "execution_count": 5,
   "metadata": {},
   "outputs": [
    {
     "name": "stdout",
     "output_type": "stream",
     "text": [
      "++\n",
      "Probability for not having disease: \t 0.114023\n",
      "Probability for having disease: \t 0.885977\n",
      "--\n",
      "Probability for not having disease: \t 1.000000\n",
      "Probability for having disease: \t 0.000000\n",
      "+-\n",
      "Probability for not having disease: \t 0.995886\n",
      "Probability for having disease: \t 0.004114\n",
      "-+\n",
      "Probability for not having disease: \t 0.999998\n",
      "Probability for having disease: \t 0.000002\n"
     ]
    }
   ],
   "source": [
    "happy,sad = test_results('++')\n",
    "print(\"++\")\n",
    "print(\"Probability for not having disease: \\t %f\" %happy)\n",
    "print(\"Probability for having disease: \\t %f\" %sad)\n",
    "\n",
    "happy,sad = test_results('--')\n",
    "print(\"--\")\n",
    "print(\"Probability for not having disease: \\t %f\" %happy)\n",
    "print(\"Probability for having disease: \\t %f\" %sad)\n",
    "\n",
    "\n",
    "happy,sad = test_results('+-')\n",
    "print(\"+-\")\n",
    "print(\"Probability for not having disease: \\t %f\" %happy)\n",
    "print(\"Probability for having disease: \\t %f\" %sad)\n",
    "\n",
    "happy,sad = test_results('-+')\n",
    "print(\"-+\")\n",
    "print(\"Probability for not having disease: \\t %f\" %happy)\n",
    "\n",
    "print(\"Probability for having disease: \\t %f\" %sad)"
   ]
  },
  {
   "cell_type": "markdown",
   "metadata": {},
   "source": [
    "---\n",
    "# Task B\n",
    "\n",
    "---"
   ]
  },
  {
   "cell_type": "markdown",
   "metadata": {},
   "source": [
    "Finally we will try to take the first steps in applying Bayesian models on data.\n",
    "\n",
    "We will start by reproducing the “inferring bias in a coin” example in the book (Ch 5 & 6). As pointed out by the author, this is a toy example but the same model applies to many different situations that you may be faced with (see e.g. the analogies given by the author on page 73 and 124 in the book).\n",
    "\n",
    "\n",
    "**1.** The probability of each outcome is given by the Bernoulli distribution Eq. (6.1).  \n",
    "**Answer**:  \n"
   ]
  },
  {
   "cell_type": "code",
   "execution_count": 6,
   "metadata": {},
   "outputs": [],
   "source": [
    "def Bernulli(y,theta):\n",
    "    #Return Bernulli pmf for outcome y given parameter theta\n",
    "    return (theta**y)*(1.0-theta)**(1.0-y)\n",
    "def likelihood(y,theta):\n",
    "    return np.prod(Bernulli(y,theta))"
   ]
  },
  {
   "cell_type": "markdown",
   "metadata": {},
   "source": [
    "**2.** It is a discrete distribution of the outcome  or  for a fixed . Plot the outcome probabilities given  and  using a bar or a stem plot.  \n",
    "\n",
    "\n",
    "**Answer**:"
   ]
  },
  {
   "cell_type": "code",
   "execution_count": 7,
   "metadata": {},
   "outputs": [
    {
     "data": {
      "image/png": "[encoded data removed]",
      "text/plain": [
       "<Figure size 432x288 with 1 Axes>"
      ]
     },
     "metadata": {
      "needs_background": "light"
     },
     "output_type": "display_data"
    },
    {
     "data": {
      "image/png": "[encoded data removed]",
      "text/plain": [
       "<Figure size 432x288 with 1 Axes>"
      ]
     },
     "metadata": {
      "needs_background": "light"
     },
     "output_type": "display_data"
    }
   ],
   "source": [
    "theta_vec = [0.5,0.25]              #Set values\n",
    "\n",
    "\n",
    "for theta in theta_vec: \n",
    "    pmf0 = Bernulli(0,theta) #Generate pmf\n",
    "    pmf1 = Bernulli(1,theta)\n",
    "    plt.figure()\n",
    "    plt.stem([0,1],[pmf0,pmf1])\n",
    "    plt.title(r\"$\\theta$ = %.2f\" %theta)\n",
    "    plt.xlabel('y')\n",
    "    plt.ylabel('pmf')"
   ]
  },
  {
   "cell_type": "markdown",
   "metadata": {},
   "source": [
    "**3.** Given a certain outcome, say $y=1$ , we can plot the likelihood of our parameter $\\theta$ . Note that when evaluating (6.1) with respect to $\\theta$ for a fixed outcome $y$, it is called a likelihood function and it is not a probability distribution since it will not integrate to 1. For $y = 0$ and $y = 1$ plot the likelihood function for $\\theta \\in [0,1]$"
   ]
  },
  {
   "cell_type": "code",
   "execution_count": 8,
   "metadata": {},
   "outputs": [
    {
     "data": {
      "text/plain": [
       "Text(0,0.5,'Likelihood function')"
      ]
     },
     "execution_count": 8,
     "metadata": {},
     "output_type": "execute_result"
    },
    {
     "data": {
      "image/png": "[encoded data removed]",
      "text/plain": [
       "<Figure size 432x288 with 1 Axes>"
      ]
     },
     "metadata": {
      "needs_background": "light"
     },
     "output_type": "display_data"
    }
   ],
   "source": [
    "# Generate theta values\n",
    "theta = np.linspace(0,1,101)\n",
    "\n",
    "#Evaluate Bernulli for a single outcome\n",
    "likelihood_1 = Bernulli(np.array([1]),theta)\n",
    "likelihood_0 = Bernulli(np.array([0]),theta)\n",
    "\n",
    "plt.figure()\n",
    "plt.plot(theta,likelihood_1,theta,likelihood_0)\n",
    "plt.legend([\"y = 1\",\"y = 0\"])\n",
    "plt.xlabel(r\"$\\theta$\")\n",
    "plt.ylabel(\"Likelihood function\")"
   ]
  },
  {
   "cell_type": "markdown",
   "metadata": {},
   "source": [
    "**4a.** Now we will assume independence, row one in Eq. (6.2), and that the coin flips are independent of each other. It means that knowledge of the outcome of one flip do not change the outcome probabilities for other flips. It seems like a valid assumption unless the coin is made out of thin aluminium and we bend it more and more from flip to flip (click here to see a funny example of a bent coin).\n",
    "Implement two functions: \n",
    "* the first is just Eq. (6.1) and \n",
    "* the other function is just the product of the first function over the data as the first row in Eq. (6.2).\n",
    "\n",
    "\n",
    "Create a vector of  coin flips, using your script from Assignment 2. Evaluate the likelihood function for  for . What happens for large values of ?  "
   ]
  },
  {
   "cell_type": "code",
   "execution_count": 9,
   "metadata": {},
   "outputs": [
    {
     "name": "stdout",
     "output_type": "stream",
     "text": [
      "n =  10 \t 0.001953125\n",
      "n =  1000 \t 1.8665272370064378e-301\n",
      "n =  100000 \t 0.0\n"
     ]
    }
   ],
   "source": [
    "#The functions asked for was implimented earlier in this notebook\n",
    "p = 0.5\n",
    "for n in [10,1000,100000]:\n",
    "    # Generate data\n",
    "    data = np.random.binomial(1,p,n-1)\n",
    "    #Calculate the likelihood\n",
    "    Lhood = likelihood(data,p)\n",
    "    print(\"n = \",n,'\\t',Lhood)\n"
   ]
  },
  {
   "cell_type": "markdown",
   "metadata": {},
   "source": [
    "The likelihood approaches zero when n increases. Eventually it will underflow and return 0.0"
   ]
  },
  {
   "cell_type": "markdown",
   "metadata": {},
   "source": [
    "**4.b** A product, as in Eq. (6.2), should be avoided as it may easily lead to overflow or underflow. Instead, we will often (always) in this course use the log-likelihood function, i.e. under the logarithm the product can be expressed as a summation, to avoid these problems. Please read the section on why we work with the log-likelihood here. Implement the logarithm versions of these two functions, i.e. the log-likelihood and the log-pdf, using the trick of logarithm and summation instead. Can you evaluate the log-likelihood for larger  without problems of under- or overflow?  "
   ]
  },
  {
   "cell_type": "code",
   "execution_count": 12,
   "metadata": {},
   "outputs": [],
   "source": [
    "def log_bernulli(y,theta):\n",
    "    #Return Bernulli pmf for outcome y given parameter theta\n",
    "    return y*np.log(theta) + (1.0-y)*np.log(1.0-theta)\n",
    "def log_likelihood(y,theta):\n",
    "    # Theta needs to be a np.ndarry even if its single value\n",
    "\n",
    "    out = np.zeros_like(theta)\n",
    "    for i,th in enumerate(theta):\n",
    "        out[i] = np.sum(log_bernulli(y,th))\n",
    "\n",
    "    return out\n"
   ]
  },
  {
   "cell_type": "markdown",
   "metadata": {},
   "source": [
    "Now lets re-calculate the log likelihood"
   ]
  },
  {
   "cell_type": "code",
   "execution_count": 13,
   "metadata": {},
   "outputs": [
    {
     "name": "stdout",
     "output_type": "stream",
     "text": [
      "n =  10 \t [-6.23832463]\n",
      "n =  1000 \t [-692.45403338]\n",
      "n =  100000 \t [-69314.02490881]\n",
      "n =  10000000 \t [-6931471.11245207]\n"
     ]
    }
   ],
   "source": [
    "p = np.array([0.5])\n",
    "for n in np.array([10,1000,100000,10000000]):\n",
    "    data = np.random.binomial(1,p,n-1)\n",
    "    Lhood = log_likelihood(data,p)\n",
    "    print(\"n = \",n,'\\t',Lhood)"
   ]
  },
  {
   "cell_type": "markdown",
   "metadata": {},
   "source": [
    "The output does not underflow anymore, even for larger n.\n",
    "\n",
    "---\n",
    "\n",
    "**c** At the final step, if absolutely necessary, one can exponentiate the log-likelihood function to obtain the likelihood value. However, for this particular example it will still be problematic as exponentiating large negative values will result in zero.  \n",
    "\n",
    "**d.** Plot the likelihood function (use either the likelihood or preferable exp(log-likelihood)) with respect to  given:\n",
    "* $y = [1]$\n",
    "* $y = [1,1]$\n",
    "* $y = [1,1,0,1]$"
   ]
  },
  {
   "cell_type": "markdown",
   "metadata": {},
   "source": [
    "First I check if the log likelihood works as in task **3**, and it seams to work."
   ]
  },
  {
   "cell_type": "code",
   "execution_count": 14,
   "metadata": {},
   "outputs": [
    {
     "name": "stderr",
     "output_type": "stream",
     "text": [
      "C:\\Users\\johohm-local\\Anaconda3\\lib\\site-packages\\ipykernel_launcher.py:3: RuntimeWarning: divide by zero encountered in log\n",
      "  This is separate from the ipykernel package so we can avoid doing imports until\n",
      "C:\\Users\\johohm-local\\Anaconda3\\lib\\site-packages\\ipykernel_launcher.py:3: RuntimeWarning: invalid value encountered in multiply\n",
      "  This is separate from the ipykernel package so we can avoid doing imports until\n"
     ]
    },
    {
     "data": {
      "text/plain": [
       "Text(0,0.5,'Likelihood function')"
      ]
     },
     "execution_count": 14,
     "metadata": {},
     "output_type": "execute_result"
    },
    {
     "data": {
      "image/png": "[encoded data removed]",
      "text/plain": [
       "<Figure size 432x288 with 1 Axes>"
      ]
     },
     "metadata": {
      "needs_background": "light"
     },
     "output_type": "display_data"
    }
   ],
   "source": [
    "#Generate theta values\n",
    "theta = np.linspace(0,1,101)\n",
    "\n",
    "#Calculate the log_likelohood\n",
    "Lhood = log_bernulli(1,theta)\n",
    "plt.figure()\n",
    "plt.plot(theta,np.exp(Lhood))\n",
    "plt.xlabel(r\"$\\theta$\")\n",
    "plt.ylabel(\"Likelihood function\")"
   ]
  },
  {
   "cell_type": "markdown",
   "metadata": {},
   "source": [
    "Now lets run with the given observations"
   ]
  },
  {
   "cell_type": "code",
   "execution_count": 15,
   "metadata": {
    "scrolled": true
   },
   "outputs": [
    {
     "name": "stderr",
     "output_type": "stream",
     "text": [
      "C:\\Users\\johohm-local\\Anaconda3\\lib\\site-packages\\ipykernel_launcher.py:3: RuntimeWarning: divide by zero encountered in log\n",
      "  This is separate from the ipykernel package so we can avoid doing imports until\n",
      "C:\\Users\\johohm-local\\Anaconda3\\lib\\site-packages\\ipykernel_launcher.py:3: RuntimeWarning: invalid value encountered in multiply\n",
      "  This is separate from the ipykernel package so we can avoid doing imports until\n"
     ]
    },
    {
     "data": {
      "text/plain": [
       "Text(0,0.5,'Likelihood function')"
      ]
     },
     "execution_count": 15,
     "metadata": {},
     "output_type": "execute_result"
    },
    {
     "data": {
      "image/png": "[encoded data removed]",
      "text/plain": [
       "<Figure size 432x288 with 1 Axes>"
      ]
     },
     "metadata": {
      "needs_background": "light"
     },
     "output_type": "display_data"
    }
   ],
   "source": [
    "theta = np.linspace(0,1,101)\n",
    "\n",
    "#List of the three different observations\n",
    "observations = [\n",
    "    np.array([1]),\n",
    "    np.array([1,1]),\n",
    "    np.array([1,1,0,1])\n",
    "]\n",
    "\n",
    "#Create figure\n",
    "plt.figure()\n",
    "for data in observations:\n",
    "    #Get data and plot the exp(log-likelihood)\n",
    "    Lhood = log_likelihood(data,theta)\n",
    "    plt.plot(theta,np.exp(Lhood))\n",
    "\n",
    "    #Add labels and legend\n",
    "plt.legend(['y = [1]','y = [1,1]','y = [1,1,0,1]'])\n",
    "plt.xlabel(r'$\\theta$')\n",
    "plt.ylabel('Likelihood function')\n",
    "\n"
   ]
  },
  {
   "cell_type": "markdown",
   "metadata": {},
   "source": [
    "Given the observation $y=[1]$ it is more likely that $\\theta > 0.5$. When an additional observation is made and that also is $y = 1$ it further skews the function. When $y = [1,1,0,1]$ it becomes much more uncertain since now a $y = 0$ is also observer and the likelihood becomes much more broad."
   ]
  },
  {
   "cell_type": "markdown",
   "metadata": {},
   "source": [
    "**5aii.** Use the posterior distribution in (6.8) and make new plots for the data sets given in the bullet (4.d) above. Please implement the log-posterior, taking advantage of the trick we learned before, and at the very utmost expression take the exponential.\n",
    "\n",
    "1. What is the difference between these figures and the figures you did previously using the likelihood?\n",
    "2. Compare the mathematical expression of the likelihood in (6.1) and (6.2) with expression (6.8) for a=1 and b=1. Can the differences in the expressions explain the difference seen in the figures?\n",
    "3. As in Task A.2.a the estimation process can also be updated sequentially. Due to the property that the prior distribution is of the same form as the posterior, i.e. a conjugate prior distribution, this sequential updating can here also be seen directly in the expression (6.8) for this example, as noted in the last paragraph in section 6.3. Read it and understand it!"
   ]
  },
  {
   "cell_type": "code",
   "execution_count": null,
   "metadata": {},
   "outputs": [],
   "source": [
    "def posterior_gamma(data,a,b,theta):\n",
    "    \n",
    "    \n",
    "#    z = np.sum(data)\n",
    "#    N = data.size\n",
    "#    d_theta = theta[1] - theta[0]\n",
    "#    B = np.sum(theta**(z+a-1)*(1-theta)**(N-z+b-1)*d_theta)\n",
    "#    return theta**(z+a-1) * (1 - theta)**(N-z+b-1)/B\n",
    "\n",
    "\n",
    "    z = np.sum(data) #Get total numbers of y=1\n",
    "    N = data.size    #Get total numbers of samples\n",
    "    d_theta = theta[1] - theta[0]  #Get dtheta for the integration of B constant\n",
    "    B = np.sum(theta**(z+a-1)*(1-theta)**(N-z+b-1)*d_theta)  #Calculate B\n",
    "    return np.exp(np.log(theta)*(z+a-1) + np.log(1 - theta)*(N-z+b-1)-np.log(B))  #Calculate log-posterior"
   ]
  },
  {
   "cell_type": "code",
   "execution_count": null,
   "metadata": {},
   "outputs": [],
   "source": [
    "\n",
    "theta = np.linspace(0,1,101)\n",
    "\n",
    "observations = [\n",
    "    np.array([1]),\n",
    "    np.array([1,1]),\n",
    "    np.array([1,1,0,1])\n",
    "]\n",
    "\n",
    "a,b = 1,1\n",
    "\n",
    "plt.figure()\n",
    "for data in observations:\n",
    "    #Calculate the posterior and plot it in the same window\n",
    "    post = posterior_gamma(data,a,b,theta)\n",
    "    plt.plot(theta,post)\n",
    "    \n",
    "plt.legend(['y = [1]','y = [1,1]','y = [1,1,0,1]'])\n",
    "plt.xlabel(r'$\\theta$')\n",
    "plt.ylabel('Posteri distribution')"
   ]
  },
  {
   "cell_type": "markdown",
   "metadata": {},
   "source": [
    "**Answer:**  \n",
    "1. These posterios how is a compromise between the likelihood and the priori but since the prior is just a uniform distribution the shape is preserved. So the only difference is that it integrates to unity.\n",
    "2. Comparing Eq.(6.2)  \n",
    "\n",
    "$p(\\{y_i\\}|\\theta) = \\theta^z(1-\\theta)^{N-z}$  \n",
    "\n",
    "with Eq(6.8) for $a=1$ and $b=1$  \n",
    "\n",
    "$p(\\theta|z,n) = \\theta^z (1-\\theta)^{N-z} / B(1,1)$  \n",
    "\n",
    "we see that the expressions are the same except for a constant."
   ]
  },
  {
   "cell_type": "markdown",
   "metadata": {},
   "source": [
    "# Reproducing Fig 6.4\n",
    "\n",
    "**5aiii.**\n",
    "Assume now more informative prior information and reproduce Figure 6.4 in the book. Note that the last three figures in column 3 you have already managed to work out from the above tasks. \n",
    "To see the relationship between mode and sample size versus a and b in the beta distribution, see Appendix 6.6. If you are in a hurry, skip legends, labels, HDI, title etc\n"
   ]
  },
  {
   "cell_type": "code",
   "execution_count": null,
   "metadata": {},
   "outputs": [],
   "source": [
    "from scipy.stats import beta as beta_imp\n",
    "def beta(a,b,theta):\n",
    "\n",
    "    d_theta = theta[1] - theta[0]\n",
    "    B = np.sum(theta**(a-1)*(1-theta)**(b-1)*d_theta)\n",
    "    return theta**(a-1) * (1 - theta)**(b-1)/B\n",
    "\n",
    "data = np.zeros(20)\n",
    "data[0:16] = 1\n",
    "\n",
    "theta = np.linspace(0,1,201)\n",
    "alpha = 0.05\n",
    "plt.figure()\n",
    "\n",
    "\n",
    "#Generate a and b parameters for the three different columns \n",
    "left = 250,250\n",
    "middle = 0.75*(25-2)+1,(1-0.75)*(25-2)+1\n",
    "right = 1,1\n",
    "#Stack them into a list\n",
    "priors_parameters = [\n",
    "    left,\n",
    "    middle,\n",
    "    right]\n",
    "\n",
    "#Loop over the list\n",
    "for i,ab in enumerate(priors_parameters):\n",
    "    #Extract values from the tuple\n",
    "    a = ab[0]\n",
    "    b = ab[1]\n",
    "    \n",
    "    # Calculate the priori from the beta-distribution\n",
    "    bb = beta(a,b,theta)\n",
    "\n",
    "    # Plot it with a and b in the title \n",
    "    plt.subplot(3,3,(i+1))\n",
    "    plt.plot(theta,bb)\n",
    "    plt.ylabel('Priori')\n",
    "    plt.title('a = %.1d, b = %.1d' %(a,b))\n",
    "    \n",
    "    \n",
    "    #Calculate the log-likelihood\n",
    "    Lhood = log_likelihood(data,theta)\n",
    "    \n",
    "    #Plot it and format axes\n",
    "    plt.subplot(3,3,i+4)\n",
    "    plt.plot(theta,np.exp(Lhood))\n",
    "    plt.ticklabel_format(style='sci', axis='y', scilimits=(0,0))\n",
    "    plt.ylabel('Likelihood')\n",
    "    \n",
    "    #Calculate the posterior\n",
    "    post = posterior_gamma(data,a,b,theta)\n",
    "    #Plot it and format axes\n",
    "    plt.subplot(3,3,i+7)\n",
    "    plt.plot(theta,post)\n",
    "    plt.xlabel(r'$\\theta$')\n",
    "    plt.ylabel('Posterior')\n",
    "    \n",
    "    #Calculate the HDI using the importet beta function and the confidence intervalls. Found this implementation online!\n",
    "    l, u = beta_imp.ppf(alpha / 2, a +17, b+3), beta_imp.ppf(1 - alpha / 2, a+17, b+3)\n",
    "    plt.vlines(l,0,5)\n",
    "    plt.vlines(u,0,5)\n",
    "    \n",
    "plt.subplots_adjust(hspace = 0.8,wspace = 1.3)\n",
    "plt.savefig('Fig64.png',dpi=600)\n"
   ]
  },
  {
   "cell_type": "markdown",
   "metadata": {},
   "source": [
    "# The Result!\n",
    "\n",
    "![](Fig64.png)\n",
    "\n",
    "\n",
    "### Anyone know a better way of plotting the HDI?"
   ]
  },
  {
   "cell_type": "markdown",
   "metadata": {},
   "source": [
    "**5.b** We have here been using Bayesian analysis the hard way. The final task is to read the summary in Section 6.5 carefully. It will recap some of the challenges we are faced with trying to figure out the denominator in (5.9) (i.e. the normalizing factor) and how we can overcome this using other techniques that we will soon learn.  "
   ]
  }
 ],
 "metadata": {
  "kernelspec": {
   "display_name": "Python 3",
   "language": "python",
   "name": "python3"
  },
  "language_info": {
   "codemirror_mode": {
    "name": "ipython",
    "version": 3
   },
   "file_extension": ".py",
   "mimetype": "text/x-python",
   "name": "python",
   "nbconvert_exporter": "python",
   "pygments_lexer": "ipython3",
   "version": "3.7.0"
  }
 },
 "nbformat": 4,
 "nbformat_minor": 2
}
