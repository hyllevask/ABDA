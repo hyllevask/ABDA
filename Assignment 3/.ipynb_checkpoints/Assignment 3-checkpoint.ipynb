{
 "cells": [
  {
   "cell_type": "markdown",
   "metadata": {},
   "source": [
    "# Assignment 3\n",
    "---"
   ]
  },
  {
   "cell_type": "markdown",
   "metadata": {},
   "source": [
    "Full assignment is avilable [here](https://docs.google.com/document/d/19JNioy6QysuSi8A_7G2sryXHnZhVkE-R7fTM4res_F4)."
   ]
  },
  {
   "cell_type": "code",
   "execution_count": 125,
   "metadata": {},
   "outputs": [],
   "source": [
    "import numpy as np\n",
    "import matplotlib.pyplot as plt\n",
    "import scipy.optimize as opt\n",
    "import scipy.special as ss"
   ]
  },
  {
   "cell_type": "markdown",
   "metadata": {},
   "source": [
    "## Task A\n",
    "\n",
    "---"
   ]
  },
  {
   "cell_type": "markdown",
   "metadata": {},
   "source": [
    "**1)** Use Eq. (4.9) graphically in Table 4.1 to calculate the conditional probability . \n",
    "* By graphically I mean circle/highlight with a (digital) pen the probabilities in the table corresponding to the numerator and denominator in (4.9). \n",
    "* Please reason why the ratio of these areas makes sense. You may use the classical definition of probability.\n",
    "\n",
    "___"
   ]
  },
  {
   "cell_type": "markdown",
   "metadata": {},
   "source": [
    "**2)** Solve Exercise 5.1 on page 118 using a function that takes an input argument that represents the person’s sequential test results and returns the posterior probability of having the disease and not having the disease. For example, let T=’+-’ be an input argument string to your function representing a random individual who first tested positive and then negative. Let the function return a two element list or a two element array of the posterior probabilities  \n",
    "\\[ p( happy | T ), p( sad | T )\\].\n",
    "\n",
    "\n",
    "* Use the last paragraph in section 5.1.2 (on page 104-105) and section 5.2.1 (page 107-108) to explaining how the algorithm works sequentially, starting from the prior probabilities (i.e. without any test results) and then moving on sequentially with access to new test results. If the function is given an empty string T = ‘’ it returns the prior probabilities and then sequentially updates the posterior.\n",
    "\n",
    "\n",
    "## The function below calculates the probibilites as follows:\n",
    "\n",
    "1. The priori likelihood and evidence for the first test is calculated from table XX .\n",
    "2. Calculate the posterior probabilities using Bayes' theorem.\n",
    "3. Set the priori for the second test to the posterior for the first test.\n",
    "4. Calculate the likelihood assuming independence.\n",
    "5. Calculate the new evidence by summing over the likelihood.\n",
    "6. Calculate the posterior probabilities for the second test using Bayes' theorem.\n",
    "\n",
    "\n",
    "---"
   ]
  },
  {
   "cell_type": "code",
   "execution_count": 3,
   "metadata": {},
   "outputs": [],
   "source": [
    "def test_results(tests):\n",
    "    P = {}\n",
    "    \n",
    "    #Take likelihood from table in the book\n",
    "    P[\":(\"] = 0.001\n",
    "    P[\":)\"] = 1.0-P[\":(\"]\n",
    "    P[\"+|:(\"] = 0.99\n",
    "    P[\"+|:)\"] = 0.05\n",
    "    P[\"-|:(\"] = 1.0 - P[\"+|:(\"]\n",
    "    P[\"-|:)\"] = 1.0 - P[\"+|:)\"]\n",
    "    \n",
    "    \n",
    "    P[\"+\"] = P[\"+|:)\"]*P[\":)\"] + P[\"+|:(\"]*P[\":(\"]\n",
    "    P[\"-\"] = P[\"-|:)\"]*P[\":)\"] + P[\"-|:(\"]*P[\":(\"]\n",
    "    \n",
    "    #Compute the posterior for the first test\n",
    "    P[':(|+'] = P['+|:(']*P[':(']/P['+']\n",
    "    P[':)|+'] = P['+|:)']*P[':)']/P['+']\n",
    "    P[':(|-'] = P['-|:(']*P[':(']/P['-']\n",
    "    P[':)|-'] = P['-|:)']*P[':)']/P['-']\n",
    "    \n",
    "    #Compute likelihood for the second test\n",
    "    P['++|:('] = P['+|:(']**2\n",
    "    P['+-|:('] = P['+|:(']*P['-|:(']\n",
    "    P['-+|:('] = P['-|:(']*P['+|:(']\n",
    "    P['--|:('] = P['-|:(']**2\n",
    "    \n",
    "    P['++|:)'] = P['+|:)']**2\n",
    "    P['+-|:)'] = P['+|:)']*P['-|:)']\n",
    "    P['-+|:)'] = P['-|:)']*P['+|:)']\n",
    "    P['--|:)'] = P['-|:)']**2\n",
    "    \n",
    "    #Compute the evidence using the posterior from the first test as the priori\n",
    "    P['++'] = P['++|:(']*P[':(|+'] + P['++|:)']*P[':)|+']\n",
    "    P['--'] = P['--|:(']*P[':(|-'] + P['--|:)']*P[':)|-']\n",
    "    \n",
    "    P['+-'] = P['+-|:(']*P[':(|+'] + P['+-|:)']*P[':)|+']\n",
    "    P['-+'] = P['-+|:(']*P[':(|-'] + P['-+|:)']*P[':)|-']\n",
    "    \n",
    "    #Compute the posterior for the second test\n",
    "    P[':(|++'] = P['++|:(']*P[':(|+']/P['++']\n",
    "    P[':)|++'] = P['++|:)']*P[':)|+']/P['++']\n",
    "    \n",
    "    P[':(|--'] = P['--|:(']*P[':(|-']/P['--']\n",
    "    P[':)|--'] = P['--|:)']*P[':)|-']/P['--']\n",
    "    \n",
    "    \n",
    "    P[':(|+-'] = P['+-|:(']*P[':(|+']/P['+-']\n",
    "    P[':)|+-'] = P['+-|:)']*P[':)|+']/P['+-']\n",
    "    \n",
    "    P[':(|-+'] = P['-+|:(']*P[':(|-']/P['-+']\n",
    "    P[':)|-+'] = P['-+|:)']*P[':)|-']/P['-+']\n",
    "\n",
    "\n",
    "    #Return whats asked for\n",
    "    if tests == '++':\n",
    "        return P[':)|++'],P[':(|++']\n",
    "    elif tests == '--':\n",
    "        return P[':)|--'],P[':(|--']\n",
    "    elif tests == '+-':\n",
    "        return P[':)|+-'],P[':(|+-']\n",
    "    elif tests == '-+':\n",
    "        return P[':)|-+'],P[':(|-+']            \n",
    "    else:\n",
    "        print(\"This is else\")\n",
    "\n"
   ]
  },
  {
   "cell_type": "code",
   "execution_count": 25,
   "metadata": {},
   "outputs": [
    {
     "name": "stdout",
     "output_type": "stream",
     "text": [
      "++\n",
      "Probability for not having disease: \t 0.114023\n",
      "Probability for having disease: \t 0.885977\n",
      "--\n",
      "Probability for not having disease: \t 1.000000\n",
      "Probability for having disease: \t 0.000000\n",
      "+-\n",
      "Probability for not having disease: \t 0.995886\n",
      "Probability for having disease: \t 0.004114\n",
      "-+\n",
      "Probability for not having disease: \t 0.999998\n",
      "Probability for having disease: \t 0.000002\n"
     ]
    }
   ],
   "source": [
    "happy,sad = test_results('++')\n",
    "print(\"++\")\n",
    "print(\"Probability for not having disease: \\t %f\" %happy)\n",
    "print(\"Probability for having disease: \\t %f\" %sad)\n",
    "\n",
    "happy,sad = test_results('--')\n",
    "print(\"--\")\n",
    "print(\"Probability for not having disease: \\t %f\" %happy)\n",
    "print(\"Probability for having disease: \\t %f\" %sad)\n",
    "\n",
    "\n",
    "happy,sad = test_results('+-')\n",
    "print(\"+-\")\n",
    "print(\"Probability for not having disease: \\t %f\" %happy)\n",
    "print(\"Probability for having disease: \\t %f\" %sad)\n",
    "\n",
    "happy,sad = test_results('-+')\n",
    "print(\"-+\")\n",
    "print(\"Probability for not having disease: \\t %f\" %happy)\n",
    "print(\"Probability for having disease: \\t %f\" %sad)"
   ]
  },
  {
   "cell_type": "markdown",
   "metadata": {},
   "source": [
    "## Task B\n",
    "\n",
    "---"
   ]
  },
  {
   "cell_type": "markdown",
   "metadata": {},
   "source": [
    "Finally we will try to take the first steps in applying Bayesian models on data.\n",
    "\n",
    "We will start by reproducing the “inferring bias in a coin” example in the book (Ch 5 & 6). As pointed out by the author, this is a toy example but the same model applies to many different situations that you may be faced with (see e.g. the analogies given by the author on page 73 and 124 in the book).\n"
   ]
  },
  {
   "cell_type": "code",
   "execution_count": 69,
   "metadata": {},
   "outputs": [],
   "source": [
    "def Bernulli(y,theta):\n",
    "    #Return Bernulli pmf for outcome y given parameter theta\n",
    "    return (theta**y)*(1.0-theta)**(1.0-y)\n",
    "def likelihood(y,theta):\n",
    "    return np.prod(Bernulli(y,theta))"
   ]
  },
  {
   "cell_type": "code",
   "execution_count": 42,
   "metadata": {},
   "outputs": [
    {
     "data": {
      "text/plain": [
       "Text(0.5,1,'Theta = 0.25')"
      ]
     },
     "execution_count": 42,
     "metadata": {},
     "output_type": "execute_result"
    },
    {
     "data": {
      "image/png": "[encoded data removed]",
      "text/plain": [
       "<Figure size 432x288 with 1 Axes>"
      ]
     },
     "metadata": {
      "needs_background": "light"
     },
     "output_type": "display_data"
    },
    {
     "data": {
      "image/png": "[encoded data removed]",
      "text/plain": [
       "<Figure size 432x288 with 1 Axes>"
      ]
     },
     "metadata": {
      "needs_background": "light"
     },
     "output_type": "display_data"
    }
   ],
   "source": [
    "theta = 0.5\n",
    "pmf0 = Bernulli(0,theta)\n",
    "pmf1 = Bernulli(1,theta)\n",
    "plt.figure()\n",
    "plt.stem([0,1],[pmf0,pmf1])\n",
    "plt.title(\"theta = 0.5\")\n",
    "\n",
    "theta = 0.25\n",
    "pmf0 = Bernulli(0,theta)\n",
    "pmf1 = Bernulli(1,theta)\n",
    "plt.figure()\n",
    "plt.stem([0,1],[pmf0,pmf1])\n",
    "plt.title(\"Theta = 0.25\")"
   ]
  },
  {
   "cell_type": "code",
   "execution_count": 57,
   "metadata": {},
   "outputs": [
    {
     "data": {
      "text/plain": [
       "Text(0.5,1,'Likelihood function')"
      ]
     },
     "execution_count": 57,
     "metadata": {},
     "output_type": "execute_result"
    },
    {
     "data": {
      "image/png": "[encoded data removed]",
      "text/plain": [
       "<Figure size 432x288 with 1 Axes>"
      ]
     },
     "metadata": {
      "needs_background": "light"
     },
     "output_type": "display_data"
    }
   ],
   "source": [
    "theta = np.linspace(0,1,101)\n",
    "\n",
    "likelihood_1 = Bernulli(1,theta)\n",
    "likelihood_0 = Bernulli(0,theta)\n",
    "plt.figure()\n",
    "plt.plot(theta,likelihood_1,theta,likelihood_0)\n",
    "plt.legend([\"y = 1\",\"y = 0\"])\n",
    "plt.xlabel(\"theta\")\n",
    "plt.title(\"Likelihood function\")"
   ]
  },
  {
   "cell_type": "code",
   "execution_count": 78,
   "metadata": {},
   "outputs": [
    {
     "name": "stdout",
     "output_type": "stream",
     "text": [
      "10 \t 0.001953125\n",
      "1000 \t 1.8665272370064378e-301\n",
      "100000 \t 0.0\n"
     ]
    }
   ],
   "source": [
    "p = 0.5\n",
    "for n in [10,1000,100000]:\n",
    "    data = np.random.binomial(1,p,n-1)\n",
    "    Lhood = likelihood(data,p)\n",
    "    print(n,'\\t',Lhood)\n"
   ]
  },
  {
   "cell_type": "markdown",
   "metadata": {},
   "source": [
    "The likelihood becomes zero when n increases"
   ]
  },
  {
   "cell_type": "code",
   "execution_count": 148,
   "metadata": {},
   "outputs": [],
   "source": [
    "def log_bernulli(y,theta):\n",
    "    #Return Bernulli pmf for outcome y given parameter theta\n",
    "    return np.log((theta**y)*(1.0-theta)**(1.0-y))\n",
    "def log_likelihood(y,theta):\n",
    "    if len(theta) > 1:\n",
    "        out = np.zeros_like(theta)\n",
    "        for i,th in enumerate(theta):\n",
    "            out[i] = np.sum(log_bernulli(y,th))\n",
    "           \n",
    "        return out\n",
    "    \n",
    "    \n",
    "    else:\n",
    "        return np.sum(log_bernulli(y,theta))\n"
   ]
  },
  {
   "cell_type": "markdown",
   "metadata": {},
   "source": [
    "Now lets re-calculate the log likelihood"
   ]
  },
  {
   "cell_type": "code",
   "execution_count": 80,
   "metadata": {},
   "outputs": [
    {
     "name": "stdout",
     "output_type": "stream",
     "text": [
      "10 \t -6.238324625039508\n",
      "1000 \t -692.4540333793855\n",
      "100000 \t -69314.02490881397\n"
     ]
    }
   ],
   "source": [
    "p = 0.5\n",
    "for n in [10,1000,100000]:\n",
    "    data = np.random.binomial(1,p,n-1)\n",
    "    Lhood = log_likelihood(data,p)\n",
    "    print(n,'\\t',Lhood)"
   ]
  },
  {
   "cell_type": "code",
   "execution_count": 147,
   "metadata": {},
   "outputs": [
    {
     "name": "stderr",
     "output_type": "stream",
     "text": [
      "C:\\Users\\johohm-local\\Anaconda3\\lib\\site-packages\\ipykernel_launcher.py:3: RuntimeWarning: divide by zero encountered in log\n",
      "  This is separate from the ipykernel package so we can avoid doing imports until\n"
     ]
    },
    {
     "data": {
      "text/plain": [
       "[<matplotlib.lines.Line2D at 0x1bf802b3c50>]"
      ]
     },
     "execution_count": 147,
     "metadata": {},
     "output_type": "execute_result"
    },
    {
     "data": {
      "image/png": "[encoded data removed]",
      "text/plain": [
       "<Figure size 432x288 with 1 Axes>"
      ]
     },
     "metadata": {
      "needs_background": "light"
     },
     "output_type": "display_data"
    }
   ],
   "source": [
    "theta = np.linspace(0,1,101)\n",
    "\n",
    "Lhood = log_bernulli(1,theta)\n",
    "Lhood\n",
    "plt.figure()\n",
    "plt.plot(np.exp(Lhood))"
   ]
  },
  {
   "cell_type": "code",
   "execution_count": 149,
   "metadata": {
    "scrolled": true
   },
   "outputs": [
    {
     "name": "stderr",
     "output_type": "stream",
     "text": [
      "C:\\Users\\johohm-local\\Anaconda3\\lib\\site-packages\\ipykernel_launcher.py:3: RuntimeWarning: divide by zero encountered in log\n",
      "  This is separate from the ipykernel package so we can avoid doing imports until\n"
     ]
    },
    {
     "data": {
      "text/plain": [
       "Text(0,0.5,'Likelihood function')"
      ]
     },
     "execution_count": 149,
     "metadata": {},
     "output_type": "execute_result"
    },
    {
     "data": {
      "image/png": "[encoded data removed]",
      "text/plain": [
       "<Figure size 432x288 with 1 Axes>"
      ]
     },
     "metadata": {
      "needs_background": "light"
     },
     "output_type": "display_data"
    }
   ],
   "source": [
    "theta = np.linspace(0,1,101)\n",
    "\n",
    "observations = [\n",
    "    np.array([1]),\n",
    "    np.array([1,1]),\n",
    "    np.array([1,1,0,1])\n",
    "]\n",
    "\n",
    "plt.figure()\n",
    "for data in observations:\n",
    "    Lhood = log_likelihood(data,theta)\n",
    "    plt.plot(theta,np.exp(Lhood))\n",
    "    \n",
    "plt.legend(['y = [1]','y = [1,1]','y = [1,1,0,1]'])\n",
    "plt.xlabel(r'$\\theta$')\n",
    "plt.ylabel('Likelihood function')"
   ]
  },
  {
   "cell_type": "code",
   "execution_count": 159,
   "metadata": {},
   "outputs": [],
   "source": [
    "def posterior_gamma(data,a,b,theta):\n",
    "    \n",
    "    \n",
    "    z = np.sum(data)\n",
    "    N = data.size\n",
    "    d_theta = theta[1] - theta[0]\n",
    "    B = np.sum(theta**(z+a-1)*(1-theta)**(N-z+b-1)*d_theta)\n",
    "    return theta**(z+a-1) * (1 - theta)**(N-z+b-1)/B"
   ]
  },
  {
   "cell_type": "code",
   "execution_count": 161,
   "metadata": {},
   "outputs": [
    {
     "data": {
      "text/plain": [
       "Text(0,0.5,'Posteri distribution')"
      ]
     },
     "execution_count": 161,
     "metadata": {},
     "output_type": "execute_result"
    },
    {
     "data": {
      "image/png": "[encoded data removed]",
      "text/plain": [
       "<Figure size 432x288 with 1 Axes>"
      ]
     },
     "metadata": {
      "needs_background": "light"
     },
     "output_type": "display_data"
    }
   ],
   "source": [
    "theta = np.linspace(0,1,101)\n",
    "\n",
    "observations = [\n",
    "    np.array([1]),\n",
    "    np.array([1,1]),\n",
    "    np.array([1,1,0,1])\n",
    "]\n",
    "\n",
    "plt.figure()\n",
    "for data in observations:\n",
    "    post = posterior_gamma(data,1,1,theta)\n",
    "\n",
    "    plt.plot(theta,post)\n",
    "plt.legend(['y = [1]','y = [1,1]','y = [1,1,0,1]'])\n",
    "plt.xlabel(r'$\\theta$')\n",
    "plt.ylabel('Posteri distribution')"
   ]
  },
  {
   "cell_type": "markdown",
   "metadata": {},
   "source": [
    "# Reproducing Fig 6.4"
   ]
  },
  {
   "cell_type": "code",
   "execution_count": 191,
   "metadata": {},
   "outputs": [
    {
     "name": "stderr",
     "output_type": "stream",
     "text": [
      "C:\\Users\\johohm-local\\Anaconda3\\lib\\site-packages\\ipykernel_launcher.py:3: RuntimeWarning: divide by zero encountered in log\n",
      "  This is separate from the ipykernel package so we can avoid doing imports until\n"
     ]
    },
    {
     "data": {
      "image/png": "[encoded data removed]",
      "text/plain": [
       "<Figure size 432x288 with 9 Axes>"
      ]
     },
     "metadata": {
      "needs_background": "light"
     },
     "output_type": "display_data"
    }
   ],
   "source": [
    "from scipy.stats import beta as beta_imp\n",
    "def beta(a,b,theta):\n",
    "\n",
    "    d_theta = theta[1] - theta[0]\n",
    "    B = np.sum(theta**(a-1)*(1-theta)**(b-1)*d_theta)\n",
    "    return theta**(a-1) * (1 - theta)**(b-1)/B\n",
    "\n",
    "data = np.zeros(20)\n",
    "data[0:16] = 1\n",
    "\n",
    "theta = np.linspace(0,1,201)\n",
    "alpha = 0.05\n",
    "plt.figure()\n",
    "\n",
    "left = 250,250\n",
    "middle = 0.75*(25-2)+1,(1-0.75)*(25-2)+1\n",
    "right = 1,1\n",
    "priors_parameters = [\n",
    "    left,\n",
    "    middle,\n",
    "    right]\n",
    "\n",
    "# Left column\n",
    "\n",
    "for i,ab in enumerate(priors_parameters):\n",
    "    a = ab[0]\n",
    "    b = ab[1]\n",
    "\n",
    "    bb = beta(a,b,theta)\n",
    "\n",
    "\n",
    "    plt.subplot(3,3,(i+1))\n",
    "    plt.plot(bb)\n",
    "    \n",
    "\n",
    "    Lhood = log_likelihood(data,theta)\n",
    "    plt.subplot(3,3,i+4)\n",
    "    plt.plot(theta,np.exp(Lhood))\n",
    "    plt.ticklabel_format(style='sci', axis='y', scilimits=(0,0))\n",
    "    \n",
    "    post = posterior_gamma(data,a,b,theta)\n",
    "    plt.subplot(3,3,i+7)\n",
    "    plt.plot(theta,post)\n",
    "\n",
    "    l, u = beta_imp.ppf(alpha / 2, a +17, b+3), beta_imp.ppf(1 - alpha / 2, a+17, b+3)\n",
    "    plt.vlines(l,0,5)\n",
    "    plt.vlines(u,0,5)\n",
    "    \n",
    "plt.subplots_adjust(hspace = 0.8,wspace = 0.8)\n",
    "\n"
   ]
  }
 ],
 "metadata": {
  "kernelspec": {
   "display_name": "Python 3",
   "language": "python",
   "name": "python3"
  },
  "language_info": {
   "codemirror_mode": {
    "name": "ipython",
    "version": 3
   },
   "file_extension": ".py",
   "mimetype": "text/x-python",
   "name": "python",
   "nbconvert_exporter": "python",
   "pygments_lexer": "ipython3",
   "version": "3.7.0"
  }
 },
 "nbformat": 4,
 "nbformat_minor": 2
}
